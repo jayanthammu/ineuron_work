{
 "cells": [
  {
   "cell_type": "code",
   "execution_count": 10,
   "id": "1478d26f",
   "metadata": {},
   "outputs": [
    {
     "name": "stdout",
     "output_type": "stream",
     "text": [
      "Enter the number5\n",
      " \n",
      "*  \n",
      "* *  \n",
      "* * *  \n",
      "* * * *  \n",
      "* * * * * \n",
      "* * * * \n",
      "* * * \n",
      "* * \n",
      "* \n"
     ]
    }
   ],
   "source": [
    "rows = int(input(\"Enter the number\"))\n",
    "for num in range(rows):\n",
    "\n",
    "    for i in range(num):\n",
    "\n",
    "        print(\"*\", end=\" \") \n",
    "        \n",
    "    print(\" \")\n",
    "b = 0\n",
    "for i in range(rows, 0, -1):\n",
    "\n",
    "    b += 1\n",
    "\n",
    "    for j in range(1, i + 1):\n",
    "\n",
    "        print(\"*\", end=\" \")\n",
    "\n",
    "    print('\\r')"
   ]
  },
  {
   "cell_type": "code",
   "execution_count": 13,
   "id": "ad9c979d",
   "metadata": {},
   "outputs": [
    {
     "name": "stdout",
     "output_type": "stream",
     "text": [
      "Type a word that to reverse : hello world\n",
      "dlrow olleh\n"
     ]
    }
   ],
   "source": [
    "text = input(\"Type a word that to reverse : \")\n",
    "print(text[::-1])"
   ]
  }
 ],
 "metadata": {
  "kernelspec": {
   "display_name": "Python 3",
   "language": "python",
   "name": "python3"
  },
  "language_info": {
   "codemirror_mode": {
    "name": "ipython",
    "version": 3
   },
   "file_extension": ".py",
   "mimetype": "text/x-python",
   "name": "python",
   "nbconvert_exporter": "python",
   "pygments_lexer": "ipython3",
   "version": "3.8.8"
  }
 },
 "nbformat": 4,
 "nbformat_minor": 5
}
