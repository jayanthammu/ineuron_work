{
 "cells": [
  {
   "cell_type": "markdown",
   "id": "068868bc",
   "metadata": {},
   "source": [
    "### 1. Write a function to compute 5/0 and use try/except to catch the exceptions"
   ]
  },
  {
   "cell_type": "code",
   "execution_count": 2,
   "id": "47d9c4ff",
   "metadata": {},
   "outputs": [
    {
     "name": "stdout",
     "output_type": "stream",
     "text": [
      "we just handled an error\n"
     ]
    }
   ],
   "source": [
    "# funtion to handle the error \n",
    "def handling():\n",
    "    try:\n",
    "        c=5/0\n",
    "    except:\n",
    "        print('we just handled an error')\n",
    "        \n",
    "handling()"
   ]
  },
  {
   "cell_type": "markdown",
   "id": "83ba1d5d",
   "metadata": {},
   "source": [
    "### 2. Implement a Python program to generate all sentences where subject is in\n",
    "[\"Americans\", \"Indians\"] and verb is in [\"Play\", \"watch\"] and the object is in\n",
    "[\"Baseball\",\"cricket\"]."
   ]
  },
  {
   "cell_type": "code",
   "execution_count": 5,
   "id": "0826f968",
   "metadata": {},
   "outputs": [
    {
     "name": "stdout",
     "output_type": "stream",
     "text": [
      "Americans  play Baseball.\n",
      "Americans  play Cricket.\n",
      "Americans  watch Baseball.\n",
      "Americans  watch Cricket.\n",
      "Indians play Baseball.\n",
      "Indians play Cricket.\n",
      "Indians watch Baseball.\n",
      "Indians watch Cricket.\n"
     ]
    }
   ],
   "source": [
    "# Let's define the subject verb and object variable to store the string \n",
    "\n",
    "sub=[\"Americans \",\"Indians\"] \n",
    "verb=[\"play\",\"watch\"] \n",
    "obj=[\"Baseball\",\"Cricket\"]\n",
    "\n",
    "# we iterate throught the loops of each subject verb and object to get every possible out come of the sentences \n",
    "for x in range(0,len(sub)):\n",
    "    for y in range(0,len(verb)):\n",
    "        for z in range(0,len(obj)):\n",
    "            print(sub[x]+\" \"+verb[y]+\" \"+ obj[z]+\".\")"
   ]
  }
 ],
 "metadata": {
  "kernelspec": {
   "display_name": "Python 3 (ipykernel)",
   "language": "python",
   "name": "python3"
  },
  "language_info": {
   "codemirror_mode": {
    "name": "ipython",
    "version": 3
   },
   "file_extension": ".py",
   "mimetype": "text/x-python",
   "name": "python",
   "nbconvert_exporter": "python",
   "pygments_lexer": "ipython3",
   "version": "3.8.8"
  }
 },
 "nbformat": 4,
 "nbformat_minor": 5
}
