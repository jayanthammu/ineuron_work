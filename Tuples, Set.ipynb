{
 "cells": [
  {
   "cell_type": "markdown",
   "id": "e6ca00fe",
   "metadata": {},
   "source": [
    "## 1.1 Write a Python Program to implement your own myreduce() function which works exactly like Python's built-in function reduce()"
   ]
  },
  {
   "cell_type": "code",
   "execution_count": 13,
   "id": "a4b10d4a",
   "metadata": {},
   "outputs": [
    {
     "name": "stdout",
     "output_type": "stream",
     "text": [
      "My reduce funtion output is : 75600\n"
     ]
    }
   ],
   "source": [
    "def myreduce(func, values):\n",
    "    output = values[0]\n",
    "    for i in values[1:]:\n",
    "        output =funtion(output,i)\n",
    "    return output\n",
    "def funtion(a,b):\n",
    "   return a * b\n",
    "l=[3,4,5,7,6,3,2,5]\n",
    "print(f\"My reduce funtion output is : {myreduce(funtion,l)}\" )"
   ]
  },
  {
   "cell_type": "markdown",
   "id": "822cdb21",
   "metadata": {},
   "source": [
    "## 1.2 Write a Python program to implement your own myfilter() function which works exactly like Python's built-in function filter()"
   ]
  },
  {
   "cell_type": "code",
   "execution_count": 32,
   "id": "9537b77c",
   "metadata": {},
   "outputs": [
    {
     "name": "stdout",
     "output_type": "stream",
     "text": [
      "My Filter Output is: [15, 60]\n"
     ]
    }
   ],
   "source": [
    "def myfilter(fun, values):\n",
    "    result = list()\n",
    "    for i in values:\n",
    "        if fun(i):\n",
    "            result.append(i)\n",
    "    return result\n",
    "def fun(x):\n",
    "    if x % 5 == 0:\n",
    "        return True\n",
    "    else:\n",
    "        return False\n",
    "lst = [12, 15, 60, 34, 53]\n",
    "print(f\"My Filter Output is: {myfilter(fun, lst)}\")"
   ]
  },
  {
   "cell_type": "markdown",
   "id": "6adbe7a8",
   "metadata": {},
   "source": [
    "# 2. Implement List comprehensions to produce the following lists. Write List comprehensions to produce the following Lists\n",
    "['A', 'C', 'A', 'D', 'G', 'I', ’L’, ‘ D’]\n",
    "['x', 'xx', 'xxx', 'xxxx', 'y', 'yy', 'yyy', 'yyyy', 'z', 'zz', 'zzz', 'zzzz']\n",
    "['x', 'y', 'z', 'xx', 'yy', 'zz', 'xxx', 'yyy', 'zzz', 'xxxx', 'yyyy', 'zzzz']\n",
    "[[2], [3], [4], [3], [4], [5], [4], [5], [6]] [[2, 3, 4, 5], [3, 4, 5, 6],\n",
    "[4, 5, 6, 7], [5, 6, 7, 8]]\n",
    "[(1, 1), (2, 1), (3, 1), (1, 2), (2, 2), (3, 2), (1, 3), (2, 3), (3, 3)]# "
   ]
  },
  {
   "cell_type": "code",
   "execution_count": 16,
   "id": "99cf4fdf",
   "metadata": {},
   "outputs": [
    {
     "data": {
      "text/plain": [
       "['x', 'xx', 'xxx', 'xxxx', 'y', 'yy', 'yyy', 'yyyy', 'z', 'zz', 'zzz', 'zzzz']"
      ]
     },
     "execution_count": 16,
     "metadata": {},
     "output_type": "execute_result"
    }
   ],
   "source": [
    "l1 = ['x', 'y', 'z']\n",
    "[i*j for j in l1 for i in range(1, 5)]\n"
   ]
  },
  {
   "cell_type": "code",
   "execution_count": 21,
   "id": "c6e391c7",
   "metadata": {},
   "outputs": [
    {
     "data": {
      "text/plain": [
       "['x', 'y', 'z', 'xx', 'yy', 'zz', 'xxx', 'yyy', 'zzz', 'xxxx', 'yyyy', 'zzzz']"
      ]
     },
     "execution_count": 21,
     "metadata": {},
     "output_type": "execute_result"
    }
   ],
   "source": [
    "l2 = ['x', 'y', 'z']\n",
    "[i*j for j in range(1,5) for i in l2]"
   ]
  },
  {
   "cell_type": "code",
   "execution_count": 30,
   "id": "fde809d8",
   "metadata": {},
   "outputs": [
    {
     "data": {
      "text/plain": [
       "[[2], [3], [4], [3], [4], [5], [4], [5], [6]]"
      ]
     },
     "execution_count": 30,
     "metadata": {},
     "output_type": "execute_result"
    }
   ],
   "source": [
    "l3 = [[x + y] for y in range(3) for x in range(2, 5)]\n",
    "l3"
   ]
  },
  {
   "cell_type": "code",
   "execution_count": 26,
   "id": "534965a1",
   "metadata": {},
   "outputs": [
    {
     "data": {
      "text/plain": [
       "[[2, 3, 4, 5], [3, 4, 5, 6], [4, 5, 6, 7], [5, 6, 7, 8]]"
      ]
     },
     "execution_count": 26,
     "metadata": {},
     "output_type": "execute_result"
    }
   ],
   "source": [
    "l4 = [[a+b for b in range(2, 6)] for a in range(4)]\n",
    "l4"
   ]
  },
  {
   "cell_type": "code",
   "execution_count": 25,
   "id": "b63e8aca",
   "metadata": {},
   "outputs": [
    {
     "data": {
      "text/plain": [
       "[(1, 1), (2, 1), (3, 1), (1, 2), (2, 2), (3, 2), (1, 3), (2, 3), (3, 3)]"
      ]
     },
     "execution_count": 25,
     "metadata": {},
     "output_type": "execute_result"
    }
   ],
   "source": [
    "l5=[1,2,3]\n",
    "l6=[1,2,3]\n",
    "[(y,x) for x in l5 for y in l6]"
   ]
  },
  {
   "cell_type": "code",
   "execution_count": null,
   "id": "12c7a648",
   "metadata": {},
   "outputs": [],
   "source": []
  }
 ],
 "metadata": {
  "kernelspec": {
   "display_name": "Python 3",
   "language": "python",
   "name": "python3"
  },
  "language_info": {
   "codemirror_mode": {
    "name": "ipython",
    "version": 3
   },
   "file_extension": ".py",
   "mimetype": "text/x-python",
   "name": "python",
   "nbconvert_exporter": "python",
   "pygments_lexer": "ipython3",
   "version": "3.8.8"
  }
 },
 "nbformat": 4,
 "nbformat_minor": 5
}
