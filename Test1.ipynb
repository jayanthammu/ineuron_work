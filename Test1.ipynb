{
 "cells": [
  {
   "cell_type": "markdown",
   "id": "e435d04a",
   "metadata": {},
   "source": [
    "### 1.1 Write a Python Program(with class concepts) to find the area of the triangle using the belowformula.       area = (s*(s-a)*(s-b)*(s-c)) ** 0.5     Function to take the length of the sides of triangle from user should be defined in the parent  class and function to calculate the area should be defined in subclass"
   ]
  },
  {
   "cell_type": "code",
   "execution_count": 8,
   "id": "bcd471cf",
   "metadata": {},
   "outputs": [
    {
     "name": "stdout",
     "output_type": "stream",
     "text": [
      "Enter the length a:2\n",
      "Enter the length b:4\n",
      "Enter the length c:3\n",
      "Area of trianle is 2.9047375096555625\n"
     ]
    }
   ],
   "source": [
    "class Triangle:\n",
    "    def __init__(self,i,j,k):\n",
    "        self.i=i\n",
    "        self.j=j\n",
    "        self.k=k\n",
    "    def area(self):\n",
    "        s=(self.i+self.j+self.k)/2\n",
    "        area=(s*(s-self.i)*(s-self.j)*(s-self.k))**0.5\n",
    "        return area\n",
    "    \n",
    "a=float(input(\"Enter the length a:\"))\n",
    "b=float(input(\"Enter the length b:\"))\n",
    "c=float(input(\"Enter the length c:\"))\n",
    "result=Triangle(a,b,c)\n",
    "\n",
    "print(\"Area of trianle is {}\".format(result.area()))"
   ]
  },
  {
   "cell_type": "markdown",
   "id": "19976139",
   "metadata": {},
   "source": [
    "### 1.2 Write a function filter_long_words() that takes a list of words and an integer n and returns                          the list of words that are longer than n."
   ]
  },
  {
   "cell_type": "code",
   "execution_count": 10,
   "id": "7c4a1c0a",
   "metadata": {},
   "outputs": [
    {
     "name": "stdout",
     "output_type": "stream",
     "text": [
      "Enter a value n for which should be word longer than :-4\n",
      "['hello', 'american', 'australia']\n"
     ]
    }
   ],
   "source": [
    "def filter_long_word(l1,n):\n",
    "    l2=[]\n",
    "    for i in range(0,len(l1)):\n",
    "        if len(l1[i])>n:\n",
    "            l2.append(l1[i])\n",
    "    return l2\n",
    "n=int(input(\"Enter a value n for which should be word longer than :-\"))\n",
    "l3=['hello','american','australia','in','tree']\n",
    "lst=filter_long_word(l3,n)\n",
    "print(lst)"
   ]
  },
  {
   "cell_type": "markdown",
   "id": "66d2c913",
   "metadata": {},
   "source": [
    "### 2.1 Write a Python program using function concept that maps list of words into a list of integers representing the lengths of the corresponding words."
   ]
  },
  {
   "cell_type": "code",
   "execution_count": 4,
   "id": "f67cb367",
   "metadata": {},
   "outputs": [
    {
     "name": "stdout",
     "output_type": "stream",
     "text": [
      "[2, 3, 4]\n"
     ]
    }
   ],
   "source": [
    "def find_length(list_1):\n",
    "    new_list=[]\n",
    "    for i in range (0,len(list_1)):\n",
    "        new_list.append(len(list_1[i]))\n",
    "    return new_list\n",
    "list_2=['ab','cde','erty']\n",
    "length_lst=find_length(list_2)\n",
    "print(length_lst)"
   ]
  },
  {
   "cell_type": "markdown",
   "id": "aaf97e5e",
   "metadata": {},
   "source": [
    "### 2.2 Write a Python function which takes a character (i.e. a string of length 1) and returns True if   it is a vowel, False otherwise."
   ]
  },
  {
   "cell_type": "code",
   "execution_count": 11,
   "id": "22867374",
   "metadata": {},
   "outputs": [
    {
     "name": "stdout",
     "output_type": "stream",
     "text": [
      "True\n",
      "False\n",
      "string must contain only one letter\n",
      "None\n"
     ]
    }
   ],
   "source": [
    "def vowel(x):\n",
    "    if len(x)==1:\n",
    "        if x in ('a','e','i','o','u','A','E','I','O','U'):\n",
    "            return True \n",
    "        else:\n",
    "            return False\n",
    "    else:\n",
    "        print('string must contain only one letter')\n",
    "    \n",
    "print(vowel('i'))\n",
    "print(vowel('l'))\n",
    "print(vowel('you'))"
   ]
  }
 ],
 "metadata": {
  "kernelspec": {
   "display_name": "Python 3 (ipykernel)",
   "language": "python",
   "name": "python3"
  },
  "language_info": {
   "codemirror_mode": {
    "name": "ipython",
    "version": 3
   },
   "file_extension": ".py",
   "mimetype": "text/x-python",
   "name": "python",
   "nbconvert_exporter": "python",
   "pygments_lexer": "ipython3",
   "version": "3.8.8"
  }
 },
 "nbformat": 4,
 "nbformat_minor": 5
}
